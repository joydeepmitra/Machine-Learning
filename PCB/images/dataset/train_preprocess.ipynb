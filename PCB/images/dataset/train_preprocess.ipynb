{
 "cells": [
  {
   "cell_type": "code",
   "execution_count": 1,
   "metadata": {},
   "outputs": [],
   "source": [
    "import csv"
   ]
  },
  {
   "cell_type": "code",
   "execution_count": 2,
   "metadata": {},
   "outputs": [
    {
     "name": "stdout",
     "output_type": "stream",
     "text": [
      "<_csv.reader object at 0x0000000007D23228>\n"
     ]
    }
   ],
   "source": [
    "with open('tr', 'rb') as csvfile:\n",
    "    trainreader = csv.reader(csvfile, delimiter=',')\n",
    "    print trainreader"
   ]
  },
  {
   "cell_type": "code",
   "execution_count": 3,
   "metadata": {},
   "outputs": [
    {
     "data": {
      "text/plain": [
       "<_csv.reader at 0x7d23228>"
      ]
     },
     "execution_count": 3,
     "metadata": {},
     "output_type": "execute_result"
    }
   ],
   "source": [
    "trainreader"
   ]
  },
  {
   "cell_type": "code",
   "execution_count": 4,
   "metadata": {},
   "outputs": [
    {
     "ename": "ValueError",
     "evalue": "I/O operation on closed file",
     "output_type": "error",
     "traceback": [
      "\u001b[1;31m---------------------------------------------------------------------------\u001b[0m",
      "\u001b[1;31mValueError\u001b[0m                                Traceback (most recent call last)",
      "\u001b[1;32m<ipython-input-4-9a53a2846342>\u001b[0m in \u001b[0;36m<module>\u001b[1;34m()\u001b[0m\n\u001b[1;32m----> 1\u001b[1;33m \u001b[1;32mfor\u001b[0m \u001b[0mrow\u001b[0m \u001b[1;32min\u001b[0m \u001b[0mtrainreader\u001b[0m\u001b[1;33m:\u001b[0m\u001b[1;33m\u001b[0m\u001b[0m\n\u001b[0m\u001b[0;32m      2\u001b[0m     \u001b[1;32mprint\u001b[0m \u001b[0mrow\u001b[0m\u001b[1;33m\u001b[0m\u001b[0m\n",
      "\u001b[1;31mValueError\u001b[0m: I/O operation on closed file"
     ]
    }
   ],
   "source": [
    "for row in trainreader:\n",
    "    print row"
   ]
  },
  {
   "cell_type": "code",
   "execution_count": 43,
   "metadata": {},
   "outputs": [],
   "source": [
    "import numpy as np\n",
    "trainF = open('train.csv','w')\n",
    "evalF = open('eval.csv', 'w')\n",
    "images = []\n",
    "scores = []\n",
    "choice = []\n",
    "with open('labelmap.txt', 'rb') as csvfile:\n",
    "    trainreader = csv.reader(csvfile, delimiter=',')\n",
    "    for row in trainreader:\n",
    "        choice.append(row[0])\n",
    "        images.append(row[1])\n",
    "        scores.append(row[2])\n",
    "    bins = np.linspace(0, 1, 10,endpoint=False)\n",
    "    digitized = np.digitize(scores, bins)\n",
    "    result = zip(choice,images,digitized)\n",
    "    resultSet = set(result)\n",
    "    for item in resultSet:\n",
    "        if item[0]==\"train\":\n",
    "            trainF.write(\"./images/dataset/\" + item[1] + \",\" + \"%d\"%(item[2]) + \"\\n\")\n",
    "        else:\n",
    "            evalF.write(\"./images/dataset/\" + item[1] + \",\" + \"%d\"%(item[2]) + \"\\n\")\n",
    "trainF.close()\n",
    "evalF.close()\n",
    "    "
   ]
  },
  {
   "cell_type": "code",
   "execution_count": 32,
   "metadata": {},
   "outputs": [
    {
     "data": {
      "text/plain": [
       "(array([0. , 0.1, 0.2, 0.3, 0.4, 0.5, 0.6, 0.7, 0.8, 0.9]), 0.1)"
      ]
     },
     "execution_count": 32,
     "metadata": {},
     "output_type": "execute_result"
    }
   ],
   "source": [
    "bins = np.linspace(0,1,num=10,retstep=True,endpoint=False)\n",
    "bins"
   ]
  },
  {
   "cell_type": "code",
   "execution_count": 18,
   "metadata": {},
   "outputs": [],
   "source": [
    "import numpy as np\n",
    "data = np.random.random(100)\n",
    "bins = np.linspace(0, 1, 10)\n",
    "digitized = np.digitize(data, bins)"
   ]
  },
  {
   "cell_type": "code",
   "execution_count": 19,
   "metadata": {},
   "outputs": [
    {
     "data": {
      "text/plain": [
       "array([9, 1, 8, 4, 7, 4, 7, 5, 5, 3, 1, 3, 9, 2, 8, 8, 4, 3, 9, 8, 8, 4,\n",
       "       1, 1, 9, 4, 3, 9, 2, 4, 7, 9, 2, 6, 1, 1, 6, 5, 1, 1, 4, 6, 2, 3,\n",
       "       5, 3, 7, 6, 4, 1, 2, 8, 3, 1, 6, 6, 3, 3, 6, 4, 3, 2, 6, 6, 7, 9,\n",
       "       5, 8, 8, 9, 1, 5, 5, 6, 1, 5, 8, 8, 9, 1, 9, 5, 7, 7, 9, 1, 1, 1,\n",
       "       7, 4, 8, 7, 6, 3, 6, 4, 5, 2, 9, 5], dtype=int64)"
      ]
     },
     "execution_count": 19,
     "metadata": {},
     "output_type": "execute_result"
    }
   ],
   "source": [
    "digitized"
   ]
  },
  {
   "cell_type": "code",
   "execution_count": 20,
   "metadata": {},
   "outputs": [
    {
     "data": {
      "text/plain": [
       "array([9.81270266e-01, 6.03432702e-02, 8.12491920e-01, 4.22613129e-01,\n",
       "       7.41829919e-01, 3.33693295e-01, 7.59343248e-01, 4.73912866e-01,\n",
       "       4.92489308e-01, 2.52437440e-01, 2.17985312e-02, 2.56701682e-01,\n",
       "       8.93368578e-01, 1.34787125e-01, 8.19120593e-01, 8.35650455e-01,\n",
       "       3.58738237e-01, 2.93764047e-01, 9.69912155e-01, 8.83939575e-01,\n",
       "       8.71312882e-01, 3.63583639e-01, 5.51701463e-02, 7.98947310e-02,\n",
       "       8.90928978e-01, 3.62788168e-01, 3.18367162e-01, 9.42660065e-01,\n",
       "       2.17511302e-01, 3.36393446e-01, 7.10197503e-01, 8.97287828e-01,\n",
       "       1.11256333e-01, 5.55938694e-01, 3.30371436e-02, 3.47916362e-03,\n",
       "       5.94873747e-01, 5.09813277e-01, 1.03576671e-01, 3.51734016e-02,\n",
       "       3.99445165e-01, 5.78393053e-01, 1.89947230e-01, 2.63289859e-01,\n",
       "       5.15472045e-01, 2.85057509e-01, 6.75470111e-01, 6.61370844e-01,\n",
       "       3.47016561e-01, 4.71864676e-04, 1.49539064e-01, 7.81653090e-01,\n",
       "       3.01562572e-01, 9.78835572e-02, 6.34239305e-01, 6.55442164e-01,\n",
       "       2.79280388e-01, 2.83566085e-01, 6.58236225e-01, 4.18256459e-01,\n",
       "       2.73673398e-01, 1.47684688e-01, 5.88138501e-01, 6.47380896e-01,\n",
       "       7.75689733e-01, 8.96576603e-01, 5.09871822e-01, 8.52214400e-01,\n",
       "       8.72202556e-01, 9.72307646e-01, 2.61402615e-02, 5.23654508e-01,\n",
       "       5.29059490e-01, 6.15388169e-01, 4.70515505e-02, 4.66577205e-01,\n",
       "       8.44468888e-01, 7.99499891e-01, 9.55805895e-01, 9.37473827e-02,\n",
       "       9.81487518e-01, 4.56694360e-01, 7.33314643e-01, 6.94117340e-01,\n",
       "       9.43191147e-01, 2.98303403e-02, 9.79900578e-02, 3.32033908e-02,\n",
       "       7.04650273e-01, 4.32476330e-01, 7.82269676e-01, 7.51413620e-01,\n",
       "       6.50650040e-01, 2.49957504e-01, 5.82942856e-01, 3.43912337e-01,\n",
       "       5.18502693e-01, 2.06414974e-01, 9.91123595e-01, 4.75154468e-01])"
      ]
     },
     "execution_count": 20,
     "metadata": {},
     "output_type": "execute_result"
    }
   ],
   "source": [
    "data"
   ]
  },
  {
   "cell_type": "code",
   "execution_count": null,
   "metadata": {},
   "outputs": [],
   "source": []
  }
 ],
 "metadata": {
  "kernelspec": {
   "display_name": "Python 2",
   "language": "python",
   "name": "python2"
  },
  "language_info": {
   "codemirror_mode": {
    "name": "ipython",
    "version": 2
   },
   "file_extension": ".py",
   "mimetype": "text/x-python",
   "name": "python",
   "nbconvert_exporter": "python",
   "pygments_lexer": "ipython2",
   "version": "2.7.15"
  }
 },
 "nbformat": 4,
 "nbformat_minor": 2
}
