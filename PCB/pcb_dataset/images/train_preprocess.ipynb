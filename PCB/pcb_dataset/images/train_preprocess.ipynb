{
 "cells": [
  {
   "cell_type": "code",
   "execution_count": null,
   "metadata": {},
   "outputs": [],
   "source": [
    "import csv\n",
    "import numpy as np\n",
    "\n",
    "trainF = open('train.csv','w')\n",
    "evalF = open('eval.csv', 'w')\n",
    "images = []\n",
    "scores = []\n",
    "choice = []\n",
    "with open('labelmap.txt', 'rb') as csvfile:\n",
    "    trainreader = csv.reader(csvfile, delimiter=',')\n",
    "    for row in trainreader:\n",
    "        choice.append(row[0])\n",
    "        images.append(row[1])\n",
    "        scores.append(row[2])\n",
    "    bins = np.linspace(0, 1, 10,endpoint=False)\n",
    "    digitized = np.digitize(scores, bins)\n",
    "    result = zip(choice,images,digitized)\n",
    "    resultSet = set(result)\n",
    "    for item in resultSet:\n",
    "        if item[0]==\"train\":\n",
    "            trainF.write(\"./images/dataset/\" + item[1] + \",\" + \"%d\"%(item[2]) + \"\\n\")\n",
    "        else:\n",
    "            evalF.write(\"./images/dataset/\" + item[1] + \",\" + \"%d\"%(item[2]) + \"\\n\")\n",
    "trainF.close()\n",
    "evalF.close()\n",
    "    "
   ]
  }
 ],
 "metadata": {
  "kernelspec": {
   "display_name": "Python 2",
   "language": "python",
   "name": "python2"
  },
  "language_info": {
   "codemirror_mode": {
    "name": "ipython",
    "version": 2
   },
   "file_extension": ".py",
   "mimetype": "text/x-python",
   "name": "python",
   "nbconvert_exporter": "python",
   "pygments_lexer": "ipython2",
   "version": "2.7.15"
  }
 },
 "nbformat": 4,
 "nbformat_minor": 2
}
