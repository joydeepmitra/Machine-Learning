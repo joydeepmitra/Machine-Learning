{
 "cells": [
  {
   "cell_type": "markdown",
   "metadata": {
    "deletable": true,
    "editable": true
   },
   "source": [
    "# PCB Placement Training with TensorFlow on Cloud ML Engine\n",
    "\n",
    "This notebook demonstrates how to do PCB placement training from scratch using a placement dataset using Estimator/Experiment."
   ]
  },
  {
   "cell_type": "code",
   "execution_count": null,
   "metadata": {
    "collapsed": true,
    "deletable": true,
    "editable": true
   },
   "outputs": [],
   "source": [
    "import os\n",
    "PROJECT = 'gcp-spb-magestic' # REPLACE WITH YOUR PROJECT ID\n",
    "BUCKET = 'joydeeps-datastore' # REPLACE WITH YOUR BUCKET NAME\n",
    "REGION = 'us-central1' # REPLACE WITH YOUR BUCKET REGION e.g. us-central1\n",
    "MODEL_TYPE = 'cnn'\n",
    "\n",
    "# do not change these\n",
    "os.environ['PROJECT'] = PROJECT\n",
    "os.environ['BUCKET'] = BUCKET\n",
    "os.environ['REGION'] = REGION\n",
    "os.environ['MODEL_TYPE'] = MODEL_TYPE"
   ]
  },
  {
   "cell_type": "code",
   "execution_count": null,
   "metadata": {
    "collapsed": false,
    "deletable": true,
    "editable": true
   },
   "outputs": [],
   "source": [
    "%bash\n",
    "gcloud config set project $PROJECT\n",
    "gcloud config set compute/region $REGION"
   ]
  },
  {
   "cell_type": "markdown",
   "metadata": {
    "deletable": true,
    "editable": true
   },
   "source": [
    "## Data Preprocessing, Bin the scores\n",
    "Bucketize the scores into 9 bins between 0 and 1"
   ]
  },
  {
   "cell_type": "code",
   "execution_count": null,
   "metadata": {
    "collapsed": false,
    "deletable": true,
    "editable": true
   },
   "outputs": [],
   "source": [
    "%bash\n",
    "export DATALAB_DATASET=${PWD}/pcb_dataset\n",
    "export DATASET=gs://${BUCKET}/pcb_dataset"
   ]
  },
  {
   "cell_type": "code",
   "execution_count": null,
   "metadata": {
    "collapsed": false,
    "deletable": true,
    "editable": true
   },
   "outputs": [],
   "source": [
    "import csv\n",
    "import numpy as np\n",
    "import pandas as pd\n",
    "from io import BytesIO\n",
    "import StringIO\n",
    "\n",
    "\n",
    "def transformFileName(imageName):\n",
    "  return(\"gs://\" + BUCKET + \"/pcb_dataset/images/\" + imageName)\n",
    "\n",
    "labelFileName = \"gs://\" + BUCKET + \"/pcb_dataset/images/labelmap.txt\"\n",
    "trainFileName = \"gs://\" + BUCKET + \"/pcb_dataset/images/train.csv\"\n",
    "evalFileName = \"gs://\" + BUCKET + \"/pcb_dataset/images/eval.csv\"\n",
    "\n",
    "%gcs read --object $labelFileName --variable csv_as_bytes\n",
    "\n",
    "labeldf = pd.read_csv(BytesIO(csv_as_bytes), names=['type','filename','score'])\n",
    "scores = labeldf['score']\n",
    "bins = np.linspace(0, 1, 10,endpoint=False)\n",
    "digitized = np.digitize(scores, bins)\n",
    "labeldf['score'] = digitized\n",
    "traindf = labeldf[labeldf['type']=='train']\n",
    "evaldf = labeldf[labeldf['type']=='test']\n",
    "traindf = traindf[['filename','score']]\n",
    "evaldf = evaldf[['filename','score']]\n",
    "traindf['filename'] = traindf['filename'].apply(transformFileName)\n",
    "evaldf['filename'] = evaldf['filename'].apply(transformFileName)\n",
    "traincsv=StringIO.StringIO()\n",
    "evalcsv=StringIO.StringIO()\n",
    "traindf.to_csv(path_or_buf=traincsv,header=None,index=False)\n",
    "evaldf.to_csv(path_or_buf=evalcsv,header=None,index=False)\n",
    "trainstr = traincsv.getvalue()\n",
    "evalstr = evalcsv.getvalue()\n",
    "\n",
    "%gcs write --object $trainFileName --variable trainstr\n",
    "%gcs write --object $evalFileName --variable evalstr\n"
   ]
  },
  {
   "cell_type": "markdown",
   "metadata": {
    "deletable": true,
    "editable": true
   },
   "source": [
    "## Invoke Tensorboard on output directory"
   ]
  },
  {
   "cell_type": "code",
   "execution_count": null,
   "metadata": {
    "collapsed": false,
    "deletable": true,
    "editable": true
   },
   "outputs": [],
   "source": [
    "from google.datalab.ml import TensorBoard\n",
    "OUTDIR = 'gs://' +BUCKET + '/export_model_mle'\n",
    "TensorBoard().start(OUTDIR)"
   ]
  },
  {
   "cell_type": "markdown",
   "metadata": {
    "deletable": true,
    "editable": true
   },
   "source": [
    "## Run as a Python module\n",
    "\n",
    "Let's run it as Python module.  Note the --model parameter"
   ]
  },
  {
   "cell_type": "code",
   "execution_count": null,
   "metadata": {
    "collapsed": false,
    "deletable": true,
    "editable": true
   },
   "outputs": [],
   "source": [
    "%bash\n",
    "export OUTDIR=gs://${BUCKET}/export_model\n",
    "export DATADIR=gs://${BUCKET}/images\n",
    "export PYTHONPATH=${PYTHONPATH}:${PWD}/placermodel\n",
    "python -m trainer.task --output_dir=$OUTDIR --dataset_dir=$DATADIR \\\n",
    "   --train_steps=6000 --learning_rate=0.01 --train_batch_size=40 \\\n",
    "   --model=$MODEL_TYPE --batch_norm"
   ]
  },
  {
   "cell_type": "markdown",
   "metadata": {
    "deletable": true,
    "editable": true
   },
   "source": [
    "Now, let's do it on ML Engine. Note the --model parameter"
   ]
  },
  {
   "cell_type": "code",
   "execution_count": null,
   "metadata": {
    "collapsed": false,
    "deletable": true,
    "editable": true
   },
   "outputs": [],
   "source": [
    "%bash\n",
    "OUTDIR=gs://${BUCKET}/export_model_mle\n",
    "JOBNAME=pcb_placer_${MODEL_TYPE}_$(date -u +%y%m%d_%H%M%S)\n",
    "CONFIG=gs://${BUCKET}/config.yaml\n",
    "export DATADIR=gs://${BUCKET}/pcb_dataset/images\n",
    "echo $CONFIG $DATADIR $OUTDIR $REGION $JOBNAME\n",
    "gsutil -m rm -rf $OUTDIR\n",
    "#gsutil -m cp $CONFIG ${PWD}/config.yaml\n",
    "gcloud ml-engine jobs submit training $JOBNAME \\\n",
    "   --region=$REGION \\\n",
    "   --module-name=trainer.task \\\n",
    "   --package-path=${PWD}/placermodel/trainer \\\n",
    "   --job-dir=$OUTDIR \\\n",
    "   --staging-bucket=gs://$BUCKET \\\n",
    "   --runtime-version=1.2 \\\n",
    "   --config=${PWD}/config.yaml \\\n",
    "   -- \\\n",
    "   --dataset_dir=$DATADIR \\\n",
    "   --output_dir=$OUTDIR \\\n",
    "   --train_steps=5000 --learning_rate=0.01 --train_batch_size=40 \\\n",
    "   --model=$MODEL_TYPE --batch_norm"
   ]
  },
  {
   "cell_type": "markdown",
   "metadata": {
    "deletable": true,
    "editable": true
   },
   "source": [
    "## Deploying and predicting with model\n",
    "\n",
    "Deploy the model:"
   ]
  },
  {
   "cell_type": "code",
   "execution_count": null,
   "metadata": {
    "collapsed": false,
    "deletable": true,
    "editable": true
   },
   "outputs": [],
   "source": [
    "%bash\n",
    "MODEL_NAME=\"placermodel1\"\n",
    "#MODEL_VERSION=${MODEL_TYPE}\n",
    "MODEL_VERSION=\"cnn\"\n",
    "MODEL_LOCATION=$(gsutil ls gs://${BUCKET}/export_model_mle/export/Servo | tail -1)\n",
    "\n",
    "echo \"Deleting and deploying $MODEL_NAME $MODEL_VERSION from $MODEL_LOCATION ... this will take a few minutes\"\n",
    "gcloud ml-engine versions delete --quiet ${MODEL_VERSION} --model ${MODEL_NAME}\n",
    "#gcloud ml-engine models delete ${MODEL_NAME}\n",
    "#gcloud ml-engine models create ${MODEL_NAME} --regions $REGION\n",
    "gcloud ml-engine versions create ${MODEL_VERSION} --model ${MODEL_NAME} --origin ${MODEL_LOCATION} --runtime-version=1.2"
   ]
  },
  {
   "cell_type": "code",
   "execution_count": null,
   "metadata": {
    "collapsed": false,
    "deletable": true,
    "editable": true
   },
   "outputs": [],
   "source": [
    "%writefile test.json\n",
    "{\"imageurl\": \"gs://joydeeps-datastore/pcb_dataset/images/study.1.png\"}"
   ]
  },
  {
   "cell_type": "markdown",
   "metadata": {
    "deletable": true,
    "editable": true
   },
   "source": [
    "Send it to the prediction service"
   ]
  },
  {
   "cell_type": "code",
   "execution_count": null,
   "metadata": {
    "collapsed": false,
    "deletable": true,
    "editable": true
   },
   "outputs": [],
   "source": [
    "%bash\n",
    "gcloud ml-engine predict --model=placermodel --version=${MODEL_TYPE} --json-instances=./test.json"
   ]
  },
  {
   "cell_type": "code",
   "execution_count": null,
   "metadata": {
    "collapsed": false
   },
   "outputs": [],
   "source": [
    "%bash\n",
    "MODEL_LOCATION=$(gsutil ls gs://${BUCKET}/export_model_mle/export/Servo | tail -1)\n",
    "gcloud ml-engine local predict --model-dir=$MODEL_LOCATION --json-instances=test.json"
   ]
  },
  {
   "cell_type": "code",
   "execution_count": null,
   "metadata": {
    "collapsed": true,
    "deletable": true,
    "editable": true
   },
   "outputs": [],
   "source": [
    "\n"
   ]
  }
 ],
 "metadata": {
  "kernelspec": {
   "display_name": "Python 2",
   "language": "python",
   "name": "python2"
  },
  "language_info": {
   "codemirror_mode": {
    "name": "ipython",
    "version": 2
   },
   "file_extension": ".py",
   "mimetype": "text/x-python",
   "name": "python",
   "nbconvert_exporter": "python",
   "pygments_lexer": "ipython2",
   "version": "2.7.15"
  }
 },
 "nbformat": 4,
 "nbformat_minor": 2
}
